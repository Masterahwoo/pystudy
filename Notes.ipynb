{
 "cells": [
  {
   "cell_type": "code",
   "execution_count": 1,
   "metadata": {},
   "outputs": [
    {
     "name": "stdout",
     "output_type": "stream",
     "text": [
      "trek\n"
     ]
    }
   ],
   "source": [
    "bikes=['trek','redline','specialized']\n",
    "print(bikes[0])"
   ]
  },
  {
   "cell_type": "code",
   "execution_count": 2,
   "metadata": {},
   "outputs": [
    {
     "name": "stdout",
     "output_type": "stream",
     "text": [
      "alice\n",
      "david\n",
      "caroline\n"
     ]
    }
   ],
   "source": [
    "magicians = ['alice','david','caroline']\n",
    "\n",
    "for magician in magicians:\n",
    "    print(magician)"
   ]
  },
  {
   "cell_type": "code",
   "execution_count": 3,
   "metadata": {},
   "outputs": [
    {
     "name": "stdout",
     "output_type": "stream",
     "text": [
      "[1, 2, 3, 4, 5]\n"
     ]
    }
   ],
   "source": [
    "numbers=list(range(1,6))\n",
    "print(numbers)"
   ]
  },
  {
   "cell_type": "code",
   "execution_count": 5,
   "metadata": {},
   "outputs": [
    {
     "name": "stdout",
     "output_type": "stream",
     "text": [
      "[64, 81, 100]\n"
     ]
    }
   ],
   "source": [
    "squares=[value ** 2 for value in range(1,11)]\n",
    "print(squares[-3:])"
   ]
  },
  {
   "cell_type": "code",
   "execution_count": 6,
   "metadata": {},
   "outputs": [
    {
     "name": "stdout",
     "output_type": "stream",
     "text": [
      "['s', 't', 'r', 'i', 'n', 'g']\n"
     ]
    }
   ],
   "source": [
    "s=list(\"string\")\n",
    "print(s)"
   ]
  },
  {
   "cell_type": "code",
   "execution_count": 7,
   "metadata": {},
   "outputs": [
    {
     "data": {
      "text/plain": [
       "True"
      ]
     },
     "execution_count": 7,
     "metadata": {},
     "output_type": "execute_result"
    }
   ],
   "source": [
    "car = \"AuDi\"\n",
    "car.lower() == \"audi\""
   ]
  },
  {
   "cell_type": "code",
   "execution_count": 10,
   "metadata": {},
   "outputs": [
    {
     "data": {
      "text/plain": [
       "False"
      ]
     },
     "execution_count": 10,
     "metadata": {},
     "output_type": "execute_result"
    }
   ],
   "source": [
    "requested_toppings = [\"mushroom\",\"onion\",\"pineapple\"]\n",
    "#\"mushroom\" in requested_toppings\n",
    "\"pepperoni\" in requested_toppings"
   ]
  },
  {
   "cell_type": "code",
   "execution_count": 12,
   "metadata": {},
   "outputs": [
    {
     "name": "stdout",
     "output_type": "stream",
     "text": [
      "Adding mushroom!\n",
      "Adding onion!\n",
      "Sorry, we are out of green peppers right now!\n",
      "Adding pineapple!\n"
     ]
    }
   ],
   "source": [
    "requested_toppings = [\"mushroom\",\"onion\",\"green pepper\",\"pineapple\"]\n",
    "\n",
    "for requested_topping in requested_toppings:\n",
    "    if requested_topping == \"green pepper\":\n",
    "        print(\"Sorry, we are out of green peppers right now!\")\n",
    "    else:\n",
    "        print(f\"Adding {requested_topping}!\")"
   ]
  },
  {
   "cell_type": "code",
   "execution_count": 14,
   "metadata": {},
   "outputs": [
    {
     "name": "stdout",
     "output_type": "stream",
     "text": [
      "Are your sure you want a plain pizza?\n"
     ]
    }
   ],
   "source": [
    "requested_toppings = []\n",
    "\n",
    "if requested_toppings:\n",
    "    for requested_topping in requested_toppings:\n",
    "        print(f\"Adding {requested_topping}!\")\n",
    "else:\n",
    "    print(\"Are your sure you want a plain pizza?\")"
   ]
  },
  {
   "cell_type": "code",
   "execution_count": 17,
   "metadata": {},
   "outputs": [
    {
     "name": "stdout",
     "output_type": "stream",
     "text": [
      "You just got 5 points!\n"
     ]
    }
   ],
   "source": [
    "alien_0 = {'color': 'green', 'points': 5}\n",
    "\n",
    "new_points = alien_0['points']\n",
    "print(f\"You just got {new_points} points!\")"
   ]
  },
  {
   "cell_type": "code",
   "execution_count": 19,
   "metadata": {},
   "outputs": [
    {
     "name": "stdout",
     "output_type": "stream",
     "text": [
      "{'color': 'green', 'points': 5}\n",
      "{'color': 'green', 'points': 5, 'x_position': 0, 'y_position': 25}\n"
     ]
    }
   ],
   "source": [
    "alien_0 = {'color': 'green', 'points': 5}\n",
    "print(alien_0)\n",
    "\n",
    "alien_0['x_position'] = 0\n",
    "alien_0['y_position'] =25\n",
    "print(alien_0)"
   ]
  },
  {
   "cell_type": "code",
   "execution_count": 23,
   "metadata": {},
   "outputs": [
    {
     "name": "stdout",
     "output_type": "stream",
     "text": [
      "Original position: 0\n",
      "New position: 3\n"
     ]
    }
   ],
   "source": [
    "alien_0 = {'x_position': 0, 'y_position': 25, 'speed': 'medium'}\n",
    "print(f\"Original position: {alien_0['x_position']}\")\n",
    "\n",
    "alien_0['speed'] = 'fast'\n",
    "\n",
    "#向右移动外星人，并根据其速度决定向右位移的距离\n",
    "if alien_0['speed'] == 'slow':\n",
    "    x_incremental = 1\n",
    "elif alien_0['speed'] == 'medium':\n",
    "    x_incremental = 2\n",
    "else:\n",
    "    x_incremental = 3\n",
    "\n",
    "alien_0['x_position'] = alien_0['x_position'] + x_incremental\n",
    "print(f\"New position: {alien_0['x_position']}\")\n"
   ]
  },
  {
   "cell_type": "code",
   "execution_count": 24,
   "metadata": {},
   "outputs": [
    {
     "name": "stdout",
     "output_type": "stream",
     "text": [
      "{'color': 'green', 'points': 5}\n",
      "{'color': 'green'}\n"
     ]
    }
   ],
   "source": [
    "alien_0 = {'color': 'green', 'points': 5}\n",
    "print(alien_0)\n",
    "\n",
    "del alien_0['points']\n",
    "print(alien_0)"
   ]
  },
  {
   "cell_type": "code",
   "execution_count": 27,
   "metadata": {},
   "outputs": [
    {
     "name": "stdout",
     "output_type": "stream",
     "text": [
      "\n",
      "Key:username\n",
      "Value:efermi\n",
      "\n",
      "Key:first\n",
      "Value:enrico\n",
      "\n",
      "Key:last\n",
      "Value:fermi\n"
     ]
    }
   ],
   "source": [
    "user_0 = {\n",
    "    'username': 'efermi',\n",
    "    'first': 'enrico',\n",
    "    'last': 'fermi',\n",
    "    }\n",
    "\n",
    "for k,v in user_0.items():\n",
    "    print(f'\\nKey:{k}')\n",
    "    print(f'Value:{v}')"
   ]
  },
  {
   "cell_type": "code",
   "execution_count": 28,
   "metadata": {},
   "outputs": [
    {
     "data": {
      "text/plain": [
       "dict_keys(['username', 'first', 'last'])"
      ]
     },
     "execution_count": 28,
     "metadata": {},
     "output_type": "execute_result"
    }
   ],
   "source": [
    "user_0.keys()"
   ]
  },
  {
   "cell_type": "code",
   "execution_count": 29,
   "metadata": {},
   "outputs": [
    {
     "data": {
      "text/plain": [
       "{'username': 'efermi', 'first': 'enrico', 'last': 'fermi'}"
      ]
     },
     "execution_count": 29,
     "metadata": {},
     "output_type": "execute_result"
    }
   ],
   "source": [
    "user_0"
   ]
  },
  {
   "cell_type": "code",
   "execution_count": 31,
   "metadata": {},
   "outputs": [
    {
     "name": "stdout",
     "output_type": "stream",
     "text": [
      "Hi, Jen.\n",
      "Hi, Sarah.\n",
      "\tSarah, I see you love c\n",
      "Hi, Edward.\n",
      "Hi, Phil.\n",
      "\tPhil, I see you love python\n"
     ]
    }
   ],
   "source": [
    "favorite_languages = {\n",
    "    'jen': 'python',\n",
    "    'sarah': 'c',\n",
    "    'edward': 'rust',\n",
    "    'phil': 'python',\n",
    "    }\n",
    "\n",
    "friends = [\"phil\",\"sarah\"]\n",
    "\n",
    "for name in favorite_languages:\n",
    "    print(f\"Hi, {name.title()}.\")\n",
    "\n",
    "    if name in friends:\n",
    "        language = favorite_languages[name]\n",
    "        print(f\"\\t{name.title()}, I see you love {language}\")"
   ]
  },
  {
   "cell_type": "code",
   "execution_count": 32,
   "metadata": {},
   "outputs": [
    {
     "data": {
      "text/plain": [
       "dict_keys(['jen', 'sarah', 'edward', 'phil'])"
      ]
     },
     "execution_count": 32,
     "metadata": {},
     "output_type": "execute_result"
    }
   ],
   "source": [
    "favorite_languages.keys()"
   ]
  },
  {
   "cell_type": "code",
   "execution_count": 34,
   "metadata": {},
   "outputs": [
    {
     "name": "stdout",
     "output_type": "stream",
     "text": [
      "Hi Edward, thank you for taking the poll\n",
      "Hi Jen, thank you for taking the poll\n",
      "Hi Phil, thank you for taking the poll\n",
      "Hi Sarah, thank you for taking the poll\n"
     ]
    }
   ],
   "source": [
    "favorite_languages = {\n",
    "    'jen': 'python',\n",
    "    'sarah': 'c',\n",
    "    'edward': 'rust',\n",
    "    'phil': 'python',\n",
    "    }\n",
    "\n",
    "for name in sorted(favorite_languages):\n",
    "    print(f\"Hi {name.title()}, thank you for taking the poll\")"
   ]
  },
  {
   "cell_type": "code",
   "execution_count": 35,
   "metadata": {},
   "outputs": [
    {
     "name": "stdout",
     "output_type": "stream",
     "text": [
      "abc\n"
     ]
    }
   ],
   "source": [
    "message = input ('input something and i will send it back to you')\n",
    "print(message)"
   ]
  },
  {
   "cell_type": "code",
   "execution_count": 38,
   "metadata": {},
   "outputs": [
    {
     "name": "stdout",
     "output_type": "stream",
     "text": [
      "\n",
      "---Polling Results---\n",
      "\n",
      "Helen would like to climb Yosemite\n",
      "\n",
      "Joey would like to climb Rocky Mountain\n",
      "\n",
      "Jingyan would like to climb Fuji\n"
     ]
    }
   ],
   "source": [
    "responses = {}\n",
    "polling_active = True\n",
    "\n",
    "while(polling_active):\n",
    "    name = input(\"\\nWhat's your name?\")\n",
    "    response = input(\"\\nWhich mountain would you like to climb someday?\")\n",
    "\n",
    "    responses[name] = response\n",
    "\n",
    "    repeat = input(\"\\nWould you like another person to response? (yes/or)\")\n",
    "\n",
    "    if repeat == \"no\":\n",
    "        polling_active = False\n",
    "    \n",
    "print(\"\\n---Polling Results---\")\n",
    "for name,response in responses.items():\n",
    "    print(f\"\\n{name} would like to climb {response}\")\n",
    "\n"
   ]
  },
  {
   "cell_type": "code",
   "execution_count": 40,
   "metadata": {},
   "outputs": [
    {
     "name": "stdout",
     "output_type": "stream",
     "text": [
      "{'first': 'Helen', 'last': 'Xu', 'age': 29}\n"
     ]
    }
   ],
   "source": [
    "def build_person(first_name,last_name,age=None):\n",
    "    person={\"first\":first_name,\"last\":last_name}\n",
    "\n",
    "    if age:\n",
    "        person[\"age\"] = age\n",
    "    return person\n",
    "\n",
    "print(build_person(\"Helen\",\"Xu\",29))"
   ]
  },
  {
   "cell_type": "code",
   "execution_count": 42,
   "metadata": {},
   "outputs": [
    {
     "name": "stdout",
     "output_type": "stream",
     "text": [
      "Printing design: dodecahedron\n",
      "Printing design: phone case\n",
      "Printing design: robot\n",
      "\n",
      "The following models have been printed\n",
      "dodecahedron\n",
      "phone case\n",
      "robot\n"
     ]
    }
   ],
   "source": [
    "def print_models(unprinted_designs, completed_designs):\n",
    "    while unprinted_designs:\n",
    "        current_design=unprinted_designs.pop()\n",
    "        print(f\"Printing design: {current_design}\")\n",
    "        completed_designs.append(current_design)\n",
    "    \n",
    "def show_completed_models(completed_designs):\n",
    "    print(\"\\nThe following models have been printed\")\n",
    "\n",
    "    for completed_design in completed_designs:\n",
    "        print(completed_design)\n",
    "\n",
    "unprinted_designs = [\"robot\",\"phone case\",\"dodecahedron\"]\n",
    "completed_designs = []\n",
    "\n",
    "print_models(unprinted_designs,completed_designs)\n",
    "show_completed_models(completed_designs)"
   ]
  },
  {
   "cell_type": "code",
   "execution_count": null,
   "metadata": {},
   "outputs": [],
   "source": []
  }
 ],
 "metadata": {
  "kernelspec": {
   "display_name": "Python 3",
   "language": "python",
   "name": "python3"
  },
  "language_info": {
   "codemirror_mode": {
    "name": "ipython",
    "version": 3
   },
   "file_extension": ".py",
   "mimetype": "text/x-python",
   "name": "python",
   "nbconvert_exporter": "python",
   "pygments_lexer": "ipython3",
   "version": "3.9.6"
  }
 },
 "nbformat": 4,
 "nbformat_minor": 2
}
